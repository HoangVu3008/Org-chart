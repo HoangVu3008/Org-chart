{
 "cells": [
  {
   "cell_type": "code",
   "execution_count": null,
   "metadata": {
    "collapsed": true
   },
   "outputs": [],
   "source": [
    "#Produces some data that allows you to test the interactive chart without using data\n",
    "from faker import Faker\n",
    "fake = Faker()"
   ]
  },
  {
   "cell_type": "code",
   "execution_count": null,
   "metadata": {
    "collapsed": true
   },
   "outputs": [],
   "source": [
    "import requests\n",
    "import json\n",
    "\n",
    "def create_node():\n",
    "    node = {}\n",
    "    node[\"full_name\"] = fake.name()\n",
    "    node[\"email_address\"] = fake.email()\n",
    "    node[\"phone_numbers\"] = fake.phone_number()\n",
    "    node[\"id\"] = fake.md5()\n",
    "    node[\"summary\"] = fake.text()\n",
    "    node[\"job_title\"] = fake.job()\n",
    "    node[\"web_url\"] = r\"www.google.com\"\n",
    "\n",
    "    node[\"mugshot_url_template\"] = \"http://lorempixel.com/200/200\"\n",
    "    return node\n",
    "root = create_node()\n"
   ]
  },
  {
   "cell_type": "code",
   "execution_count": null,
   "metadata": {
    "collapsed": true
   },
   "outputs": [],
   "source": [
    "root = create_node()\n",
    "import numpy as np\n",
    "import random\n",
    "\n",
    "from scipy import stats\n",
    "\n",
    "def create_random_children(node,depth):\n",
    "    \n",
    "    num_children = np.random.binomial(8-depth, 0.5, 1)[0]\n",
    "    \n",
    "    node[\"children\"] = []\n",
    "    \n",
    "    for i in range(num_children):\n",
    "        this_node = create_node()\n",
    "        node[\"children\"].append(this_node)\n",
    "    \n",
    "    for node in node[\"children\"]:\n",
    "        create_random_children(node, depth+1)\n",
    "        \n",
    "create_random_children(root,1)\n",
    "\n"
   ]
  },
  {
   "cell_type": "code",
   "execution_count": null,
   "metadata": {
    "collapsed": true
   },
   "outputs": [],
   "source": [
    "\n",
    "#ALso need data that for the select box\n",
    "select_box = []\n",
    "\n",
    "\n",
    "def add_to_select_box(node):\n",
    "\n",
    "    new_item = {}\n",
    "    new_item[\"id\"] = node[\"id\"]\n",
    "    new_item[\"text\"] =  node[\"full_name\"] + \" \" +node[\"job_title\"]\n",
    "    select_box.append(new_item)\n",
    "    \n",
    "    if \"children\" in node:\n",
    "        for c in node[\"children\"]:\n",
    "            add_to_select_box(c)\n",
    "\n",
    "\n",
    "#Iterate through the nodes, adding to select box\n",
    "\n",
    "add_to_select_box(root)    \n",
    "select_box.sort(key=lambda x: x[\"text\"])\n",
    "\n"
   ]
  },
  {
   "cell_type": "code",
   "execution_count": null,
   "metadata": {
    "collapsed": true
   },
   "outputs": [],
   "source": [
    "\n",
    "\n",
    "final_data = {\"tree\": root, \"select_box\":select_box}\n",
    "    \n",
    "import json\n",
    "with open('../website/data/random_data.json', 'w') as outfile:\n",
    "    json.dump(final_data, outfile)\n"
   ]
  }
 ],
 "metadata": {
  "kernelspec": {
   "display_name": "Python 2",
   "language": "python",
   "name": "python2"
  },
  "language_info": {
   "codemirror_mode": {
    "name": "ipython",
    "version": 2
   },
   "file_extension": ".py",
   "mimetype": "text/x-python",
   "name": "python",
   "nbconvert_exporter": "python",
   "pygments_lexer": "ipython2",
   "version": "2.7.6"
  }
 },
 "nbformat": 4,
 "nbformat_minor": 0
}
